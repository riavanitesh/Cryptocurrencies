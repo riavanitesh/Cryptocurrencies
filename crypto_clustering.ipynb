{
 "cells": [
  {
   "cell_type": "markdown",
   "id": "0789e316",
   "metadata": {},
   "source": [
    "# Clustering Crypto"
   ]
  },
  {
   "cell_type": "code",
   "execution_count": null,
   "id": "536c4eff",
   "metadata": {},
   "outputs": [],
   "source": [
    "# Initial imports\n",
    "import pandas as pd\n",
    "import hvplot.pandas\n",
    "from path import Path\n",
    "import plotly.express as px\n",
    "from sklearn.preprocessing import StandardScaler, MinMaxScaler\n",
    "from sklearn.decomposition import PCA\n",
    "from sklearn.cluster import KMeans"
   ]
  },
  {
   "cell_type": "markdown",
   "id": "03c0024d",
   "metadata": {},
   "source": [
    "## Deliverable 1: Preprocessing the Data for PCA"
   ]
  },
  {
   "cell_type": "code",
   "execution_count": null,
   "id": "09d0a53c",
   "metadata": {},
   "outputs": [],
   "source": [
    "# STEP 1: Load the crypto_data.csv dataset.\n",
    "file_path = \"crypto_data.csv\"\n",
    "crypto_df = pd.read_csv(file_path)\n",
    "# crypto_df.sample(10)\n",
    "crypto_df.head()"
   ]
  },
  {
   "cell_type": "markdown",
   "id": "6f0c6dde",
   "metadata": {},
   "source": [
    "## Explore the dataset"
   ]
  },
  {
   "cell_type": "code",
   "execution_count": null,
   "id": "73e7c7f9",
   "metadata": {},
   "outputs": [],
   "source": [
    "# Checking the data types\n",
    "crypto_df.dtypes"
   ]
  },
  {
   "cell_type": "code",
   "execution_count": null,
   "id": "cdff2cf1",
   "metadata": {},
   "outputs": [],
   "source": [
    "# Checking the row counts\n",
    "crypto_df.count()"
   ]
  },
  {
   "cell_type": "code",
   "execution_count": null,
   "id": "c2ea0bf1",
   "metadata": {},
   "outputs": [],
   "source": [
    "# Checking the column names\n",
    "crypto_df.columns"
   ]
  },
  {
   "cell_type": "code",
   "execution_count": null,
   "id": "0e87ba49",
   "metadata": {},
   "outputs": [],
   "source": [
    "# Checking for duplicates\n",
    "print(f\"Duplicate entries: {crypto_df.duplicated().sum()}\")\n"
   ]
  },
  {
   "cell_type": "code",
   "execution_count": null,
   "id": "3d2245b4",
   "metadata": {},
   "outputs": [],
   "source": [
    "# Renamed \"Unnamed: 0\" column and then set it as the index\n",
    "crypto_df = crypto_df.rename(columns={'Unnamed: 0': ''})\n",
    "crypto_df = crypto_df.set_index('')\n",
    "# crypto_df.sample(10)\n",
    "crypto_df.head()\n"
   ]
  },
  {
   "cell_type": "markdown",
   "id": "56098c0c",
   "metadata": {},
   "source": [
    "# Transform the data set to be readable for machine learning"
   ]
  },
  {
   "cell_type": "code",
   "execution_count": null,
   "id": "344978e7",
   "metadata": {},
   "outputs": [],
   "source": [
    "# STEP 2: Keep all the cryptocurrencies that are being traded.\n",
    "clean_crypto_df = crypto_df[crypto_df['IsTrading'] == True] \n",
    "clean_crypto_df"
   ]
  },
  {
   "cell_type": "code",
   "execution_count": null,
   "id": "669860d3",
   "metadata": {},
   "outputs": [],
   "source": [
    "# STEP 3: Keep all the cryptocurrencies that have a working algorithm.\n",
    "clean_crypto_df = clean_crypto_df.dropna(subset=['Algorithm'])\n",
    "clean_crypto_df"
   ]
  },
  {
   "cell_type": "code",
   "execution_count": null,
   "id": "ce6ada09",
   "metadata": {},
   "outputs": [],
   "source": [
    "# STEP 4: Drop the \"IsTrading\" column. \n",
    "del clean_crypto_df['IsTrading']\n",
    "clean_crypto_df"
   ]
  },
  {
   "cell_type": "code",
   "execution_count": null,
   "id": "278f882f",
   "metadata": {},
   "outputs": [],
   "source": [
    "# Checking the row counts\n",
    "clean_crypto_df.count()"
   ]
  },
  {
   "cell_type": "code",
   "execution_count": null,
   "id": "4dabc5cc",
   "metadata": {},
   "outputs": [],
   "source": [
    "# STEP 5: Remove rows that have at least 1 null value.\n",
    "clean_crypto_df = clean_crypto_df.dropna(how='any',axis=0) \n",
    "clean_crypto_df"
   ]
  },
  {
   "cell_type": "code",
   "execution_count": null,
   "id": "3ff0ac1b",
   "metadata": {},
   "outputs": [],
   "source": [
    "# Checking the row counts\n",
    "clean_crypto_df.count()"
   ]
  },
  {
   "cell_type": "code",
   "execution_count": null,
   "id": "770066b0",
   "metadata": {},
   "outputs": [],
   "source": [
    "# STEP 6: Filter/Keep the rows where coins are mined.\n",
    "clean_crypto_df = clean_crypto_df[clean_crypto_df['TotalCoinsMined'] > 0] \n",
    "clean_crypto_df"
   ]
  },
  {
   "cell_type": "code",
   "execution_count": null,
   "id": "718721e7",
   "metadata": {},
   "outputs": [],
   "source": [
    "# Checking the row counts\n",
    "clean_crypto_df.count()"
   ]
  },
  {
   "cell_type": "code",
   "execution_count": null,
   "id": "a1f5b062",
   "metadata": {},
   "outputs": [],
   "source": [
    "# Step 7: Create a new DataFrame that holds only the cryptocurrencies names.\n",
    "crypto_names_df = clean_crypto_df.filter(['CoinName'], axis=1)\n",
    "crypto_names_df.head()"
   ]
  },
  {
   "cell_type": "code",
   "execution_count": null,
   "id": "b626887a",
   "metadata": {},
   "outputs": [],
   "source": [
    "# STEP 8: Drop the 'CoinName' column since it's not going to be used on the clustering algorithm.\n",
    "del clean_crypto_df['CoinName']\n",
    "clean_crypto_df.head()"
   ]
  },
  {
   "cell_type": "code",
   "execution_count": null,
   "id": "4f25af2b",
   "metadata": {},
   "outputs": [],
   "source": [
    "# STEP 9: Use get_dummies() to create variables for text features.\n",
    "X = pd.get_dummies(clean_crypto_df, columns=[\"Algorithm\", \"ProofType\"])\n",
    "X"
   ]
  },
  {
   "cell_type": "code",
   "execution_count": null,
   "id": "2d0d35f3",
   "metadata": {},
   "outputs": [],
   "source": [
    "# STEP 10: Standardize the data with StandardScaler().\n",
    "X_scaled = StandardScaler().fit_transform(X)\n",
    "print(X_scaled)"
   ]
  },
  {
   "cell_type": "markdown",
   "id": "872d416e",
   "metadata": {},
   "source": [
    "## Deliverable 2: Reducing Data Dimensions Using Principal Component Analysis (PCA)"
   ]
  },
  {
   "cell_type": "code",
   "execution_count": null,
   "id": "df454ce1",
   "metadata": {},
   "outputs": [],
   "source": [
    "# STEP 1: Clean and prepare the data, using the previous section.\n",
    "# STEP 2: Using PCA to reduce dimension to three principal components. Initialize PCA model\n",
    "pca = PCA(n_components=3)\n",
    "X_pca = pca.fit_transform(X_scaled)\n",
    "X_pca"
   ]
  },
  {
   "cell_type": "code",
   "execution_count": null,
   "id": "3d418e2d",
   "metadata": {},
   "outputs": [],
   "source": [
    "# STEP 3: Create a DataFrame with the three principal components: PC 1, PC2, PC 3.\n",
    "pcs_df=pd.DataFrame(\n",
    "data=X_pca, columns=[\"PC 1\", \"PC 2\",\"PC 3\"], index = clean_crypto_df.index)\n",
    "pcs_df.head(10)"
   ]
  },
  {
   "cell_type": "markdown",
   "id": "f1e583cd",
   "metadata": {},
   "source": [
    "# Deliverable 3: Clustering Crytocurrencies Using K-Means"
   ]
  },
  {
   "cell_type": "markdown",
   "id": "836a3564",
   "metadata": {},
   "source": [
    "## Finding the Best Value for k Using the Elbow Curve"
   ]
  },
  {
   "cell_type": "code",
   "execution_count": null,
   "id": "e2d3a6a1",
   "metadata": {},
   "outputs": [],
   "source": [
    "# STEP 1: Use the previous section that converted the data to 3 dimensions using the Principal Component Analysis.\n",
    "# STEP 2: Create an elbow curve to find the best value for K.\n",
    "# Calculate the inertia for the range of K values\n",
    "inertia = []\n",
    "k = list(range(1, 11))\n",
    "for i in k:\n",
    "   km = KMeans(n_clusters=i, random_state=0)\n",
    "   km.fit(pcs_df)\n",
    "   inertia.append(km.inertia_)"
   ]
  },
  {
   "cell_type": "code",
   "execution_count": null,
   "id": "0925042a",
   "metadata": {},
   "outputs": [],
   "source": [
    "# STEP 2: Create an elbow curve to find the best value for K.\n",
    "# Graph the Elbow Curve\n",
    "elbow_data = {\"k\": k, \"inertia\": inertia}\n",
    "df_elbow = pd.DataFrame(elbow_data)\n",
    "df_elbow.hvplot.line(x=\"k\", y=\"inertia\", title=\"Elbow Curve\", xticks=k)\n"
   ]
  },
  {
   "cell_type": "code",
   "execution_count": null,
   "id": "eb34a770",
   "metadata": {},
   "outputs": [],
   "source": [
    "# STEP 3: Initialize the K-Means model, using k = 4 from reviewing the elbow curve.\n",
    "model = KMeans(n_clusters=4, random_state=0)\n",
    "\n",
    "# Fit the model\n",
    "model.fit(pcs_df)\n",
    "\n",
    "# Predict clusters\n",
    "predictions = model.predict(pcs_df)\n",
    "\n",
    "predictions\n"
   ]
  },
  {
   "cell_type": "code",
   "execution_count": null,
   "id": "75d3eb2a",
   "metadata": {},
   "outputs": [],
   "source": [
    "# STEP 4: Create a new DataFrame including predicted clusters and cryptocurrencies features.\n",
    "# Concatentate the crypto_df and pcs_df DataFrames on the same columns.\n",
    "clustered_df = pd.concat([clean_crypto_df, pcs_df], axis=1)\n",
    "\n",
    "# STEP 5: Add a new column, \"CoinName\" to the clustered_df DataFrame that holds the names of the cryptocurrencies. \n",
    "clustered_df['CoinName'] = crypto_names_df \n",
    "\n",
    "# STEP 6: Add a new column, \"Class\" to the clustered_df DataFrame that holds the predictions.\n",
    "clustered_df['Class'] = predictions\n",
    "\n",
    "# Print the shape of the clustered_df\n",
    "print(clustered_df.shape)\n",
    "clustered_df.head(10)\n"
   ]
  },
  {
   "cell_type": "markdown",
   "id": "c92a7308",
   "metadata": {},
   "source": [
    "# Deliverable 4: Visualizing Cryptocurrencies Results"
   ]
  },
  {
   "cell_type": "markdown",
   "id": "a262b024",
   "metadata": {},
   "source": [
    "## 3D-Scatter with Clusters"
   ]
  },
  {
   "cell_type": "code",
   "execution_count": null,
   "id": "2c894fd0",
   "metadata": {},
   "outputs": [],
   "source": [
    "# STEP 1: Use the k-means method, picked k = 4\n",
    "# STEP 2: Creating a 3D-Scatter with the PCA data and the clusters\n",
    "# STEP 3: Add CoinName to hover_name, Algorithm to hover_data \n",
    "fig = px.scatter_3d(\n",
    "    clustered_df,\n",
    "    x=\"PC 1\",\n",
    "    y=\"PC 2\",\n",
    "    z=\"PC 3\",\n",
    "    color=\"Class\",\n",
    "    symbol=\"Class\",\n",
    "    width=800,\n",
    "    hover_name=\"CoinName\",\n",
    "    hover_data=['Algorithm'],\n",
    ")\n",
    "fig.update_layout(legend=dict(x=0, y=1))\n",
    "fig.show()\n"
   ]
  },
  {
   "cell_type": "code",
   "execution_count": null,
   "id": "6855ad33",
   "metadata": {},
   "outputs": [],
   "source": [
    "# STEP 4: Create a table with tradable cryptocurrencies.\n",
    "clustered_df.hvplot.table(sortable=True, selectable=True)\n"
   ]
  },
  {
   "cell_type": "code",
   "execution_count": null,
   "id": "78457ce9",
   "metadata": {},
   "outputs": [],
   "source": [
    "# STEP 5: Print the total number of tradable cryptocurrencies.\n",
    "index = clustered_df.index\n",
    "len(index)\n",
    "print(\"There are \" + str(len(index)) + \" \" + \"tradable cryptocurrencies.\")\n"
   ]
  },
  {
   "cell_type": "code",
   "execution_count": null,
   "id": "58febe33",
   "metadata": {},
   "outputs": [],
   "source": [
    "# STEP 6: Scaling data to create the scatter plot with tradable cryptocurrencies.\n",
    "mms = MinMaxScaler()\n",
    "clustered_df_scaled = mms.fit_transform(clustered_df[['TotalCoinSupply','TotalCoinsMined']])\n",
    "clustered_df_scaled\n"
   ]
  },
  {
   "cell_type": "code",
   "execution_count": null,
   "id": "9f686b7c",
   "metadata": {},
   "outputs": [],
   "source": [
    "# STEP 7: Create a new DataFrame that has the scaled data with the clustered_df DataFrame index.\n",
    "plot_df=pd.DataFrame(\n",
    "data=clustered_df_scaled, columns=['TotalCoinSupply','TotalCoinsMined'], index = clustered_df.index)\n",
    "\n",
    "# STEP 8: Add the \"CoinName\" column from the clustered_df DataFrame to the new DataFrame.\n",
    "plot_df['CoinName'] = clustered_df['CoinName'] \n",
    "\n",
    "\n",
    "# STEP 9: Add the \"Class\" column from the clustered_df DataFrame to the new DataFrame. \n",
    "plot_df['Class'] = clustered_df['Class'] \n",
    "\n",
    "plot_df.head(10)\n"
   ]
  },
  {
   "cell_type": "code",
   "execution_count": null,
   "id": "6d603e18",
   "metadata": {},
   "outputs": [],
   "source": [
    "# STEP 10: Create a hvplot.scatter plot using x=\"TotalCoinsMined\" and y=\"TotalCoinSupply\".\n",
    "plot_df.hvplot.scatter(x=\"TotalCoinsMined\", y=\"TotalCoinSupply\", by=\"Class\", hover_cols=[\"CoinName\"])\n"
   ]
  },
  {
   "cell_type": "code",
   "execution_count": null,
   "id": "c2c2f0aa",
   "metadata": {},
   "outputs": [],
   "source": []
  },
  {
   "cell_type": "code",
   "execution_count": null,
   "id": "1bbc7210",
   "metadata": {},
   "outputs": [],
   "source": []
  }
 ],
 "metadata": {
  "kernelspec": {
   "display_name": "Python 3 (ipykernel)",
   "language": "python",
   "name": "python3"
  },
  "language_info": {
   "codemirror_mode": {
    "name": "ipython",
    "version": 3
   },
   "file_extension": ".py",
   "mimetype": "text/x-python",
   "name": "python",
   "nbconvert_exporter": "python",
   "pygments_lexer": "ipython3",
   "version": "3.7.11"
  }
 },
 "nbformat": 4,
 "nbformat_minor": 5
}
