{
 "cells": [
  {
   "cell_type": "code",
   "execution_count": 1,
   "id": "9a467f00",
   "metadata": {},
   "outputs": [],
   "source": [
    "# 18.2.2 Pandas Refresher\n",
    "import pandas as pd"
   ]
  },
  {
   "cell_type": "code",
   "execution_count": null,
   "id": "ca72bd6f",
   "metadata": {},
   "outputs": [],
   "source": [
    "file_path = \"./Resources/iris.csv\"\n",
    "iris_df = pd.read_csv(file_path)\n",
    "iris_df.head()"
   ]
  },
  {
   "cell_type": "code",
   "execution_count": null,
   "id": "452ace06",
   "metadata": {},
   "outputs": [],
   "source": [
    "new_iris_df = iris_df.drop(['class'], axis=1)\n",
    "new_iris_df.head()"
   ]
  },
  {
   "cell_type": "code",
   "execution_count": null,
   "id": "11ba9679",
   "metadata": {},
   "outputs": [],
   "source": [
    "Skill Drill 18.2.2\n",
    "ordered_iris_df = new_iris_df[[\"sepal_length\",\"petal_length\",\"sepal_width\",\"petal_width\"]]\n",
    "ordered_iris_df.head()"
   ]
  },
  {
   "cell_type": "code",
   "execution_count": null,
   "id": "2b203e0a",
   "metadata": {},
   "outputs": [],
   "source": [
    "ordered_iris_df.dtypes"
   ]
  },
  {
   "cell_type": "code",
   "execution_count": null,
   "id": "1e26f037",
   "metadata": {},
   "outputs": [],
   "source": [
    "ordered_iris_df.count()"
   ]
  },
  {
   "cell_type": "code",
   "execution_count": null,
   "id": "f22e0720",
   "metadata": {},
   "outputs": [],
   "source": [
    "output_file_path = \"./Resources/new_iris_data.csv\"\n",
    "new_iris_df.to_csv(output_file_path, index=False)"
   ]
  },
  {
   "cell_type": "code",
   "execution_count": null,
   "id": "0a8f00ae",
   "metadata": {},
   "outputs": [],
   "source": []
  },
  {
   "cell_type": "code",
   "execution_count": null,
   "id": "1b0a3c1d",
   "metadata": {},
   "outputs": [],
   "source": []
  }
 ],
 "metadata": {
  "kernelspec": {
   "display_name": "Python 3 (ipykernel)",
   "language": "python",
   "name": "python3"
  },
  "language_info": {
   "codemirror_mode": {
    "name": "ipython",
    "version": 3
   },
   "file_extension": ".py",
   "mimetype": "text/x-python",
   "name": "python",
   "nbconvert_exporter": "python",
   "pygments_lexer": "ipython3",
   "version": "3.7.11"
  }
 },
 "nbformat": 4,
 "nbformat_minor": 5
}
