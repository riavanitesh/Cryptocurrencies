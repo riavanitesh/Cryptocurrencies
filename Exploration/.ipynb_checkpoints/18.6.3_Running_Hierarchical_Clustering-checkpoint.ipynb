{
 "cells": [
  {
   "cell_type": "code",
   "execution_count": null,
   "id": "5c070235",
   "metadata": {},
   "outputs": [],
   "source": [
    "# 18.6.3 Running Hierarchical Clustering\n"
   ]
  },
  {
   "cell_type": "code",
   "execution_count": null,
   "id": "d1725e45",
   "metadata": {},
   "outputs": [],
   "source": [
    "import pandas as pd\n",
    "from sklearn.preprocessing import StandardScaler\n",
    "from sklearn.decomposition import PCA\n",
    "from sklearn.cluster import AgglomerativeClustering\n",
    "import hvplot.pandas\n",
    "from sklearn.cluster import KMeans\n",
    "import plotly.figure_factory as ff\n"
   ]
  },
  {
   "cell_type": "code",
   "execution_count": null,
   "id": "c40ad8cd",
   "metadata": {},
   "outputs": [],
   "source": [
    "# Load data\n",
    "file_path = \"./Resources/new_iris_data.csv\"\n",
    "df_iris = pd.read_csv(file_path)\n",
    "df_iris.head(10)\n"
   ]
  },
  {
   "cell_type": "code",
   "execution_count": null,
   "id": "ca3ae457",
   "metadata": {},
   "outputs": [],
   "source": [
    "# Skill Drill 18.6.3 Copy the PCA code into here \n",
    "# Standardize data with StandardScaler\n",
    "iris_scaled = StandardScaler().fit_transform(df_iris)\n",
    "# Initialize PCA model\n",
    "pca = PCA(n_components=2)\n",
    "# Get two principal components for the iris data.\n",
    "iris_pca = pca.fit_transform(iris_scaled)\n",
    "# Transform PCA data to a DataFrame\n",
    "df_iris_pca = pd.DataFrame(\n",
    "    data=iris_pca, columns=[\"principle component 1\",\"principle component 2\"])\n",
    "df_iris_pca.head()\n"
   ]
  },
  {
   "cell_type": "code",
   "execution_count": null,
   "id": "a2999433",
   "metadata": {},
   "outputs": [],
   "source": [
    "# Fetch the explainded variance\n",
    "pca.explained_variance_ratio_\n"
   ]
  },
  {
   "cell_type": "code",
   "execution_count": null,
   "id": "0e6a1800",
   "metadata": {},
   "outputs": [],
   "source": [
    "# Find the best value for K\n",
    "inertia = []\n",
    "k = list(range(1, 11))\n",
    "\n",
    "# Calculate the inertia for the range of K values\n",
    "for i in k:\n",
    "    km = KMeans(n_clusters=i, random_state=0)\n",
    "    km.fit(df_iris_pca)\n",
    "    inertia.append(km.inertia_)\n",
    "\n",
    "# Create the elbow curve\n",
    "elbow_data = {\"k\": k, \"inertia\": inertia}\n",
    "df_elbow = pd.DataFrame(elbow_data)\n",
    "df_elbow.hvplot.line(x=\"k\", y=\"inertia\", xticks=k, title=\"Elbow Curve\")\n"
   ]
  },
  {
   "cell_type": "code",
   "execution_count": null,
   "id": "a0633da3",
   "metadata": {},
   "outputs": [],
   "source": [
    "# Initialize the K-means model\n",
    "model = KMeans(n_clusters=3, random_state=0)\n",
    "\n",
    "# Fit the model\n",
    "model.fit(df_iris_pca)\n",
    "\n",
    "# Predict clusters\n",
    "predictions = model.predict(df_iris_pca)\n",
    "\n",
    "# Add the predicted class columns\n",
    "df_iris_pca[\"class\"] = model.labels_\n",
    "df_iris_pca.head()\n"
   ]
  },
  {
   "cell_type": "code",
   "execution_count": null,
   "id": "37ed986a",
   "metadata": {},
   "outputs": [],
   "source": [
    "df_iris_pca.hvplot.scatter(\n",
    "    x=\"principle component 1\",\n",
    "    y=\"principle component 2\",\n",
    "    hover_cols=[\"class\"],\n",
    "    by=\"class\",\n",
    ")\n"
   ]
  },
  {
   "cell_type": "code",
   "execution_count": null,
   "id": "e037b5df",
   "metadata": {},
   "outputs": [],
   "source": [
    "# Create the dendrogram\n",
    "fig = ff.create_dendrogram(df_iris_pca, color_threshold=0)\n",
    "fig.update_layout(width=800, height=500)\n",
    "fig.show()\n"
   ]
  },
  {
   "cell_type": "code",
   "execution_count": null,
   "id": "562a718b",
   "metadata": {},
   "outputs": [],
   "source": [
    "# we choose 3 clusters \n",
    "agg = AgglomerativeClustering(n_clusters=3)\n",
    "model = agg.fit(df_iris_pca)\n"
   ]
  },
  {
   "cell_type": "code",
   "execution_count": null,
   "id": "90da095a",
   "metadata": {},
   "outputs": [],
   "source": [
    "# Add a new class column to df_iris\n",
    "df_iris_pca[\"class\"] = model.labels_\n",
    "df_iris_pca.head()\n"
   ]
  },
  {
   "cell_type": "code",
   "execution_count": null,
   "id": "63505731",
   "metadata": {},
   "outputs": [],
   "source": [
    "df_iris_pca.hvplot.scatter(\n",
    "    x=\"principle component 1\",\n",
    "    y=\"principle component 2\",\n",
    "    hover_cols=[\"class\"],\n",
    "    by=\"class\",\n",
    ")\n"
   ]
  },
  {
   "cell_type": "code",
   "execution_count": null,
   "id": "d478fd62",
   "metadata": {},
   "outputs": [],
   "source": [
    "# Skill Drill 18.6.3 try other clusters  \n",
    "agg = AgglomerativeClustering(n_clusters=7)\n",
    "model = agg.fit(df_iris_pca)\n"
   ]
  },
  {
   "cell_type": "code",
   "execution_count": null,
   "id": "4c8505a3",
   "metadata": {},
   "outputs": [],
   "source": [
    "# Add a new class column to df_iris\n",
    "df_iris_pca[\"class\"] = model.labels_\n",
    "df_iris_pca.head()\n"
   ]
  },
  {
   "cell_type": "code",
   "execution_count": null,
   "id": "5031543c",
   "metadata": {},
   "outputs": [],
   "source": [
    "df_iris_pca.hvplot.scatter(\n",
    "    x=\"principle component 1\",\n",
    "    y=\"principle component 2\",\n",
    "    hover_cols=[\"class\"],\n",
    "    by=\"class\",\n",
    ")\n"
   ]
  },
  {
   "cell_type": "code",
   "execution_count": null,
   "id": "094cf4a5",
   "metadata": {},
   "outputs": [],
   "source": []
  },
  {
   "cell_type": "code",
   "execution_count": null,
   "id": "a9e2a9d4",
   "metadata": {},
   "outputs": [],
   "source": []
  }
 ],
 "metadata": {
  "kernelspec": {
   "display_name": "Python 3 (ipykernel)",
   "language": "python",
   "name": "python3"
  },
  "language_info": {
   "codemirror_mode": {
    "name": "ipython",
    "version": 3
   },
   "file_extension": ".py",
   "mimetype": "text/x-python",
   "name": "python",
   "nbconvert_exporter": "python",
   "pygments_lexer": "ipython3",
   "version": "3.7.11"
  }
 },
 "nbformat": 4,
 "nbformat_minor": 5
}
