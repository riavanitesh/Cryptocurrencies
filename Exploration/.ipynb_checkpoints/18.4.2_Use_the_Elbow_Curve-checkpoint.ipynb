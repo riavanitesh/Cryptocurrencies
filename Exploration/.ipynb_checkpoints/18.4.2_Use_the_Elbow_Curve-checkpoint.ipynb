{
 "cells": [
  {
   "cell_type": "code",
   "execution_count": null,
   "id": "e5e94692",
   "metadata": {},
   "outputs": [],
   "source": [
    "# 18.4.2 Use the Elbow Curve\n"
   ]
  },
  {
   "cell_type": "code",
   "execution_count": null,
   "id": "5a6704df",
   "metadata": {},
   "outputs": [],
   "source": [
    "# Initial imports\n",
    "import pandas as pd\n",
    "from sklearn.cluster import KMeans\n",
    "import plotly.express as px\n",
    "import hvplot.pandas"
   ]
  },
  {
   "cell_type": "code",
   "execution_count": null,
   "id": "8b71910a",
   "metadata": {},
   "outputs": [],
   "source": [
    "# Load data\n",
    "file_path = \"./Resources/shopping_data_cleaned.csv\"\n",
    "df_shopping = pd.read_csv(file_path)\n",
    "df_shopping.head(10)\n"
   ]
  },
  {
   "cell_type": "code",
   "execution_count": null,
   "id": "372d7d32",
   "metadata": {},
   "outputs": [],
   "source": [
    "inertia = []\n",
    "k = list(range(1, 11))\n",
    "# Calculate the inertia for the range of K values\n",
    "for i in k:\n",
    "   km = KMeans(n_clusters=i, random_state=0)\n",
    "   km.fit(df_shopping)\n",
    "   inertia.append(km.inertia_)\n"
   ]
  },
  {
   "cell_type": "code",
   "execution_count": null,
   "id": "438a78e8",
   "metadata": {},
   "outputs": [],
   "source": [
    "def get_clusters(k, data):\n",
    "   # Create a copy of the DataFrame\n",
    "   data = data.copy()\n",
    "\n",
    "   # Initialize the K-Means model\n",
    "   model = KMeans(n_clusters=k, random_state=0)\n",
    "\n",
    "   # Fit the model\n",
    "   model.fit(data)\n",
    "\n",
    "   # Predict clusters\n",
    "   predictions = model.predict(data)\n",
    "\n",
    "   # Create return DataFrame with predicted clusters\n",
    "   data[\"class\"] = model.labels_\n",
    "\n",
    "   return data\n"
   ]
  },
  {
   "cell_type": "code",
   "execution_count": null,
   "id": "800d6fce",
   "metadata": {},
   "outputs": [],
   "source": [
    "five_clusters = get_clusters(5, df_shopping)\n",
    "five_clusters.head()\n"
   ]
  },
  {
   "cell_type": "code",
   "execution_count": null,
   "id": "3bdb59c9",
   "metadata": {},
   "outputs": [],
   "source": [
    "six_clusters = get_clusters(6, df_shopping)\n",
    "six_clusters.head()\n"
   ]
  },
  {
   "cell_type": "code",
   "execution_count": null,
   "id": "2245c908",
   "metadata": {},
   "outputs": [],
   "source": [
    "# Plotting the 2D-scatter with x=\"annual_income\" and y=\"spending_score\"\n",
    "five_clusters.hvplot.scatter(x=\"annual_income\", y=\"spending_score\", by = 'class')\n"
   ]
  },
  {
   "cell_type": "code",
   "execution_count": null,
   "id": "c7459d41",
   "metadata": {},
   "outputs": [],
   "source": [
    "# Plot the 3D-scatter with x=\"Annual Income\", y=\"Spending Score (1-100)\" and z=\"Age\"\n",
    "fig = px.scatter_3d(\n",
    "    five_clusters,\n",
    "    x=\"age\",\n",
    "    y=\"spending_score\",\n",
    "    z=\"annual_income\",\n",
    "    color=\"class\",\n",
    "    symbol=\"class\",\n",
    "    width=800,\n",
    ")\n",
    "fig.update_layout(legend=dict(x=0, y=1))\n",
    "fig.show()\n"
   ]
  },
  {
   "cell_type": "code",
   "execution_count": null,
   "id": "aab8ddac",
   "metadata": {},
   "outputs": [],
   "source": [
    "# Plotting the 2D-scatter with x=\"annual_income\" and y=\"spending_score\"\n",
    "six_clusters.hvplot.scatter(x=\"annual_income\", y=\"spending_score\", by = 'class')\n"
   ]
  },
  {
   "cell_type": "code",
   "execution_count": null,
   "id": "11c98d73",
   "metadata": {},
   "outputs": [],
   "source": [
    "# Plot the 3D-scatter with x=\"Annual Income\", y=\"Spending Score (1-100)\" and z=\"Age\"\n",
    "fig = px.scatter_3d(\n",
    "    six_clusters,\n",
    "    x=\"age\",\n",
    "    y=\"spending_score\",\n",
    "    z=\"annual_income\",\n",
    "    color=\"class\",\n",
    "    symbol=\"class\",\n",
    "    width=800,\n",
    ")\n",
    "fig.update_layout(legend=dict(x=0, y=1))\n",
    "fig.show()\n"
   ]
  },
  {
   "cell_type": "code",
   "execution_count": null,
   "id": "8ca071c4",
   "metadata": {},
   "outputs": [],
   "source": [
    "# Choose 6 Groups, because this makes sense over 5 groups\n",
    "# Cluster 0: medium income, low annual spend\n",
    "# Cluster 1: low income, low annual spend\n",
    "# Cluster 2: high income, low annual spend\n",
    "# Cluster 3: low income, high annual spend\n",
    "# Cluster 4: medium income, high annual spend\n",
    "# Cluster 5: very high income, high annual spend\n"
   ]
  },
  {
   "cell_type": "code",
   "execution_count": null,
   "id": "deefe9ec",
   "metadata": {},
   "outputs": [],
   "source": []
  },
  {
   "cell_type": "code",
   "execution_count": null,
   "id": "b15f373b",
   "metadata": {},
   "outputs": [],
   "source": []
  }
 ],
 "metadata": {
  "kernelspec": {
   "display_name": "Python 3 (ipykernel)",
   "language": "python",
   "name": "python3"
  },
  "language_info": {
   "codemirror_mode": {
    "name": "ipython",
    "version": 3
   },
   "file_extension": ".py",
   "mimetype": "text/x-python",
   "name": "python",
   "nbconvert_exporter": "python",
   "pygments_lexer": "ipython3",
   "version": "3.7.11"
  }
 },
 "nbformat": 4,
 "nbformat_minor": 5
}
