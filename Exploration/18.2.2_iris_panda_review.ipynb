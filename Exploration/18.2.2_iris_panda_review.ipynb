{
 "cells": [
  {
   "cell_type": "code",
   "execution_count": 1,
   "id": "3a8ff6ec",
   "metadata": {},
   "outputs": [],
   "source": [
    "# 18.2.2 Pandas Refresher\n",
    "import pandas as pd"
   ]
  },
  {
   "cell_type": "code",
   "execution_count": null,
   "id": "430df3f0",
   "metadata": {},
   "outputs": [],
   "source": [
    "file_path = \"./Resources/iris.csv\"\n",
    "iris_df = pd.read_csv(file_path)\n",
    "iris_df.head()"
   ]
  },
  {
   "cell_type": "code",
   "execution_count": null,
   "id": "aa3b0640",
   "metadata": {},
   "outputs": [],
   "source": [
    "new_iris_df = iris_df.drop(['class'], axis=1)\n",
    "new_iris_df.head()"
   ]
  },
  {
   "cell_type": "code",
   "execution_count": null,
   "id": "c8baa620",
   "metadata": {},
   "outputs": [],
   "source": [
    "Skill Drill 18.2.2\n",
    "ordered_iris_df = new_iris_df[[\"sepal_length\",\"petal_length\",\"sepal_width\",\"petal_width\"]]\n",
    "ordered_iris_df.head()"
   ]
  },
  {
   "cell_type": "code",
   "execution_count": null,
   "id": "c8987f69",
   "metadata": {},
   "outputs": [],
   "source": [
    "ordered_iris_df.dtypes"
   ]
  },
  {
   "cell_type": "code",
   "execution_count": null,
   "id": "f164f102",
   "metadata": {},
   "outputs": [],
   "source": [
    "ordered_iris_df.count()"
   ]
  },
  {
   "cell_type": "code",
   "execution_count": null,
   "id": "3df1e5d7",
   "metadata": {},
   "outputs": [],
   "source": [
    "output_file_path = \"./Resources/new_iris_data.csv\"\n",
    "new_iris_df.to_csv(output_file_path, index=False)"
   ]
  },
  {
   "cell_type": "code",
   "execution_count": null,
   "id": "7b9f32c7",
   "metadata": {},
   "outputs": [],
   "source": []
  },
  {
   "cell_type": "code",
   "execution_count": null,
   "id": "ea9f7395",
   "metadata": {},
   "outputs": [],
   "source": []
  }
 ],
 "metadata": {
  "kernelspec": {
   "display_name": "Python 3 (ipykernel)",
   "language": "python",
   "name": "python3"
  },
  "language_info": {
   "codemirror_mode": {
    "name": "ipython",
    "version": 3
   },
   "file_extension": ".py",
   "mimetype": "text/x-python",
   "name": "python",
   "nbconvert_exporter": "python",
   "pygments_lexer": "ipython3",
   "version": "3.7.11"
  }
 },
 "nbformat": 4,
 "nbformat_minor": 5
}
