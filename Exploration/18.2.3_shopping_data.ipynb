{
 "cells": [
  {
   "cell_type": "code",
   "execution_count": null,
   "id": "35728a40",
   "metadata": {},
   "outputs": [],
   "source": [
    "# 18.2.3 Preprocessing Data With Pandas\n",
    "import pandas as pd"
   ]
  },
  {
   "cell_type": "code",
   "execution_count": null,
   "id": "04e845a8",
   "metadata": {},
   "outputs": [],
   "source": [
    "# 18.2.3 Preprocessing Data With Pandas\n",
    "# changed file name because the last line of code overwrites the original\n",
    "file_path = \"./Resources/shopping_data_original.csv\"\n",
    "df_shopping = pd.read_csv(file_path, encoding=\"ISO-8859-1\")\n",
    "df_shopping.head()"
   ]
  },
  {
   "cell_type": "code",
   "execution_count": null,
   "id": "789bec40",
   "metadata": {},
   "outputs": [],
   "source": [
    "df_shopping.dtypes"
   ]
  },
  {
   "cell_type": "code",
   "execution_count": null,
   "id": "0c3b9efa",
   "metadata": {},
   "outputs": [],
   "source": [
    "\n",
    "df_shopping.count()"
   ]
  },
  {
   "cell_type": "code",
   "execution_count": null,
   "id": "bfbce7dd",
   "metadata": {},
   "outputs": [],
   "source": [
    "# 18.2.4 Data Selection\n",
    "# Columns\n",
    "df_shopping.columns"
   ]
  },
  {
   "cell_type": "code",
   "execution_count": null,
   "id": "83100ac7",
   "metadata": {},
   "outputs": [],
   "source": [
    "df_shopping.dtypes\n"
   ]
  },
  {
   "cell_type": "code",
   "execution_count": null,
   "id": "1d149d2b",
   "metadata": {},
   "outputs": [],
   "source": [
    "# Find null values\n",
    "for column in df_shopping.columns:\n",
    "        print(f\"Column{column} has {df_shopping[column].isnull().sum()} null values.\")\n"
   ]
  },
  {
   "cell_type": "code",
   "execution_count": null,
   "id": "eeb790b5",
   "metadata": {},
   "outputs": [],
   "source": [
    "# Drop null rows\n",
    "df_shopping = df_shopping.dropna()\n",
    "df_shopping.count()\n"
   ]
  },
  {
   "cell_type": "code",
   "execution_count": null,
   "id": "0c8a3378",
   "metadata": {},
   "outputs": [],
   "source": [
    "# Find duplicate entries\n",
    "print(f\"Duplicate entries: {df_shopping.duplicated().sum()}\")\n"
   ]
  },
  {
   "cell_type": "code",
   "execution_count": null,
   "id": "4cec1224",
   "metadata": {},
   "outputs": [],
   "source": [
    "# Remove the CustomerID Columns\n",
    "df_shopping.drop(columns=[\"CustomerID\"],inplace=True)\n",
    "df_shopping.head()\n"
   ]
  },
  {
   "cell_type": "code",
   "execution_count": null,
   "id": "ca05a75c",
   "metadata": {},
   "outputs": [],
   "source": [
    "# 18.2.5 Data Processing\n",
    "# Transform String Column\n",
    "def change_string(member):\n",
    "    if member == \"Yes\":\n",
    "        return 1\n",
    "    else:\n",
    "        return 0\n",
    "    \n",
    "df_shopping[\"Card Member\"] = df_shopping[\"Card Member\"].apply(change_string)\n",
    "df_shopping.head()\n"
   ]
  },
  {
   "cell_type": "code",
   "execution_count": null,
   "id": "11e3428f",
   "metadata": {},
   "outputs": [],
   "source": [
    "# Transform annual income\n",
    "df_shopping[\"Annual Income\"] = df_shopping[\"Annual Income\"] / 1000\n",
    "df_shopping.head()\n"
   ]
  },
  {
   "cell_type": "code",
   "execution_count": null,
   "id": "d547b8f9",
   "metadata": {},
   "outputs": [],
   "source": [
    "# Skill Dirll 18.2.5\n",
    "df_shopping.columns = df_shopping.columns.str.strip().str.lower().str.replace(' ', '_').str.replace('(', '').str.replace(')', '')\n",
    "df_shopping.head()\n",
    "\n",
    "# https://medium.com/@chaimgluck1/working-with-pandas-fixing-messy-column-names-42a54a6659cd\n"
   ]
  },
  {
   "cell_type": "code",
   "execution_count": null,
   "id": "a438fa9d",
   "metadata": {},
   "outputs": [],
   "source": [
    "# Remove the numbers from the column\n",
    "df_shopping.rename(columns={\"spending_score_1-100\": \"spending_score\"},inplace=True)\n",
    "df_shopping.head()\n",
    "\n",
    "# https://pandas.pydata.org/pandas-docs/stable/reference/api/pandas.DataFrame.rename.html\n",
    "# https://stackoverflow.com/questions/19758364/rename-specific-columns-in-pandas\n"
   ]
  },
  {
   "cell_type": "code",
   "execution_count": null,
   "id": "84702d1b",
   "metadata": {},
   "outputs": [],
   "source": [
    "# 18.2.6 Data Transformation\n",
    "# Saving cleaned data\n",
    "file_path = \"./Resources/shopping_data.csv\"\n",
    "df_shopping.to_csv(file_path, index=False)\n"
   ]
  },
  {
   "cell_type": "code",
   "execution_count": null,
   "id": "3282e5f8",
   "metadata": {},
   "outputs": [],
   "source": [
    "# Skill Drill 18.2.6\n",
    "file_path = \"./Resources/shopping_data.xlsx\"\n",
    "df_shopping.to_excel(file_path, index=False)\n"
   ]
  },
  {
   "cell_type": "code",
   "execution_count": null,
   "id": "ed97097a",
   "metadata": {},
   "outputs": [],
   "source": [
    "# https://pandas.pydata.org/pandas-docs/stable/user_guide/io.html\n",
    "# feather is better for storage if you want to pip install feather-format\n",
    "# https://towardsdatascience.com/the-best-format-to-save-pandas-data-414dca023e0d\n"
   ]
  },
  {
   "cell_type": "code",
   "execution_count": null,
   "id": "c24e4416",
   "metadata": {},
   "outputs": [],
   "source": []
  },
  {
   "cell_type": "code",
   "execution_count": null,
   "id": "64014c7d",
   "metadata": {},
   "outputs": [],
   "source": []
  }
 ],
 "metadata": {
  "kernelspec": {
   "display_name": "Python 3 (ipykernel)",
   "language": "python",
   "name": "python3"
  },
  "language_info": {
   "codemirror_mode": {
    "name": "ipython",
    "version": 3
   },
   "file_extension": ".py",
   "mimetype": "text/x-python",
   "name": "python",
   "nbconvert_exporter": "python",
   "pygments_lexer": "ipython3",
   "version": "3.7.11"
  }
 },
 "nbformat": 4,
 "nbformat_minor": 5
}
